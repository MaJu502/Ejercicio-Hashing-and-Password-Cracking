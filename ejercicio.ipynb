{
 "cells": [
  {
   "cell_type": "markdown",
   "metadata": {},
   "source": [
    "# Ejercicio Hashing and Password Cracking\n",
    "Marco Jurado 20308"
   ]
  },
  {
   "cell_type": "code",
   "execution_count": null,
   "metadata": {},
   "outputs": [],
   "source": [
    "import hashlib"
   ]
  },
  {
   "cell_type": "code",
   "execution_count": null,
   "metadata": {},
   "outputs": [],
   "source": [
    "def leer_archivo(path):\n",
    "    with open(path, 'r') as file:\n",
    "        return file.read().splitlines()"
   ]
  },
  {
   "cell_type": "code",
   "execution_count": null,
   "metadata": {},
   "outputs": [],
   "source": [
    "def generar_hash_sha1(texto):\n",
    "    hash_objeto = hashlib.sha1(texto.encode())\n",
    "    return hash_objeto.hexdigest()"
   ]
  },
  {
   "cell_type": "code",
   "execution_count": null,
   "metadata": {},
   "outputs": [],
   "source": [
    "hashes_objetivo = leer_archivo('target_hashes.txt')\n",
    "palabras = leer_archivo('words.txt')\n",
    "hash_palabra = {}\n",
    "\n",
    "for palabra in palabras:\n",
    "    hash_generado = generar_hash_sha1(palabra)\n",
    "    hash_palabra[hash_generado] = palabra\n",
    "\n",
    "for target_hash in hashes_objetivo:\n",
    "    if target_hash in hash_palabra:\n",
    "        print(f'Hash: {target_hash} - Contraseña: {hash_palabra[target_hash]}')"
   ]
  }
 ],
 "metadata": {
  "language_info": {
   "name": "python"
  }
 },
 "nbformat": 4,
 "nbformat_minor": 2
}

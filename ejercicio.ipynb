{
 "cells": [
  {
   "cell_type": "markdown",
   "metadata": {},
   "source": [
    "# Ejercicio Hashing and Password Cracking\n",
    "Marco Jurado 20308"
   ]
  },
  {
   "cell_type": "code",
   "execution_count": 30,
   "metadata": {},
   "outputs": [],
   "source": [
    "import hashlib\n",
    "import logging"
   ]
  },
  {
   "cell_type": "code",
   "execution_count": 31,
   "metadata": {},
   "outputs": [],
   "source": [
    "logging.basicConfig(level=logging.INFO, format='%(asctime)s - %(levelname)s - %(message)s')"
   ]
  },
  {
   "cell_type": "code",
   "execution_count": 32,
   "metadata": {},
   "outputs": [],
   "source": [
    "def generar_hash_sha1(texto):\n",
    "    return hashlib.sha1(texto.encode()).hexdigest()"
   ]
  },
  {
   "cell_type": "code",
   "execution_count": 33,
   "metadata": {},
   "outputs": [],
   "source": [
    "def leer_archivo(path, codificaciones=['utf-8', 'latin-1']):\n",
    "    for codificacion in codificaciones:\n",
    "        try:\n",
    "            with open(path, 'r', encoding=codificacion) as file:\n",
    "                contenido = file.read().splitlines()\n",
    "                logging.info(f\"Archivo {path} leído correctamente con codificación {codificacion}\")\n",
    "                return contenido\n",
    "        except UnicodeDecodeError as e:\n",
    "            logging.warning(f\"Fallo al leer {path} con {codificacion}: {e}\")\n",
    "            continue\n",
    "    error_msg = f\"No se pudo leer el archivo {path} con las codificaciones proporcionadas.\"\n",
    "    logging.error(error_msg)\n",
    "    raise ValueError(error_msg)"
   ]
  },
  {
   "cell_type": "code",
   "execution_count": 42,
   "metadata": {},
   "outputs": [],
   "source": [
    "def encontrar_contraseñas(hashes_objetivo, palabras):\n",
    "    encontrados = {}\n",
    "    contador = 0\n",
    "    total_palabras = len(palabras)\n",
    "    intervalo_progreso = int(total_palabras * 0.05)\n",
    "    if intervalo_progreso == 0:\n",
    "        intervalo_progreso = 1\n",
    "\n",
    "    for palabra in palabras:\n",
    "        contador += 1\n",
    "        hash_generado = generar_hash_sha1(palabra)\n",
    "        if hash_generado in hashes_objetivo:\n",
    "            encontrados[hash_generado] = palabra\n",
    "            logging.info(f\"Encontrado: {palabra} -> {hash_generado}\")\n",
    "\n",
    "        if contador % intervalo_progreso == 0:\n",
    "            porcentaje = (contador / total_palabras) * 100\n",
    "            logging.info(f\"{porcentaje:.2f}% completado\")\n",
    "\n",
    "    if contador % intervalo_progreso != 0:  # Capturar el último segmento de progreso\n",
    "        porcentaje = (contador / total_palabras) * 100\n",
    "        logging.info(f\"{porcentaje:.2f}% completado\")\n",
    "\n",
    "    return encontrados"
   ]
  },
  {
   "cell_type": "code",
   "execution_count": 35,
   "metadata": {},
   "outputs": [
    {
     "name": "stderr",
     "output_type": "stream",
     "text": [
      "2024-04-25 18:31:28,079 - INFO - Archivo target_hashes.txt leído correctamente con codificación utf-8\n",
      "2024-04-25 18:31:28,101 - INFO - Archivo words.txt leído correctamente con codificación utf-8\n",
      "2024-04-25 18:31:29,506 - WARNING - Fallo al leer realhuman_phill.txt con utf-8: 'utf-8' codec can't decode byte 0xe4 in position 30460: invalid continuation byte\n",
      "2024-04-25 18:31:39,658 - INFO - Archivo realhuman_phill.txt leído correctamente con codificación latin-1\n"
     ]
    }
   ],
   "source": [
    "hashes_objetivo = set(leer_archivo('target_hashes.txt'))\n",
    "palabras_basicas = leer_archivo('words.txt')\n",
    "palabras_completas = leer_archivo('realhuman_phill.txt')"
   ]
  },
  {
   "cell_type": "code",
   "execution_count": 36,
   "metadata": {},
   "outputs": [],
   "source": [
    "palabras_totales = palabras_basicas + palabras_completas"
   ]
  },
  {
   "cell_type": "code",
   "execution_count": 37,
   "metadata": {},
   "outputs": [
    {
     "data": {
      "text/plain": [
       "64045222"
      ]
     },
     "execution_count": 37,
     "metadata": {},
     "output_type": "execute_result"
    }
   ],
   "source": [
    "len(palabras_totales)"
   ]
  },
  {
   "cell_type": "code",
   "execution_count": 43,
   "metadata": {},
   "outputs": [
    {
     "name": "stderr",
     "output_type": "stream",
     "text": [
      "2024-04-25 18:34:24,243 - INFO - 5.00% completado\n",
      "2024-04-25 18:34:28,084 - INFO - 10.00% completado\n",
      "2024-04-25 18:34:29,648 - INFO - Encontrado: abcdefghijklmnopqrstuvwxyz -> 32d10c7b8cf96570ca04ce37f2a19d84240d3a89\n",
      "2024-04-25 18:34:31,803 - INFO - 15.00% completado\n",
      "2024-04-25 18:34:35,559 - INFO - 20.00% completado\n",
      "2024-04-25 18:34:39,273 - INFO - 25.00% completado\n",
      "2024-04-25 18:34:42,973 - INFO - 30.00% completado\n",
      "2024-04-25 18:34:46,779 - INFO - 35.00% completado\n",
      "2024-04-25 18:34:50,571 - INFO - 40.00% completado\n",
      "2024-04-25 18:34:54,304 - INFO - 45.00% completado\n",
      "2024-04-25 18:34:58,369 - INFO - 50.00% completado\n",
      "2024-04-25 18:35:02,223 - INFO - 55.00% completado\n",
      "2024-04-25 18:35:06,079 - INFO - 60.00% completado\n",
      "2024-04-25 18:35:10,008 - INFO - 65.00% completado\n",
      "2024-04-25 18:35:13,746 - INFO - Encontrado: P4ssw0rd -> 264bc0768362a68984faea923efaa21f67f4d10a\n",
      "2024-04-25 18:35:13,908 - INFO - 70.00% completado\n",
      "2024-04-25 18:35:17,743 - INFO - 75.00% completado\n",
      "2024-04-25 18:35:21,639 - INFO - 80.00% completado\n",
      "2024-04-25 18:35:25,506 - INFO - 85.00% completado\n",
      "2024-04-25 18:35:29,960 - INFO - 90.00% completado\n",
      "2024-04-25 18:35:34,472 - INFO - 95.00% completado\n",
      "2024-04-25 18:35:38,531 - INFO - 100.00% completado\n",
      "2024-04-25 18:35:38,532 - INFO - 100.00% completado\n"
     ]
    }
   ],
   "source": [
    "resultados = encontrar_contraseñas(hashes_objetivo, palabras_totales)"
   ]
  },
  {
   "cell_type": "code",
   "execution_count": 39,
   "metadata": {},
   "outputs": [
    {
     "name": "stdout",
     "output_type": "stream",
     "text": [
      "Hash: 32d10c7b8cf96570ca04ce37f2a19d84240d3a89, Contraseña: abcdefghijklmnopqrstuvwxyz\n",
      "Hash: 264bc0768362a68984faea923efaa21f67f4d10a, Contraseña: P4ssw0rd\n"
     ]
    }
   ],
   "source": [
    "for hash_val, pass_val in resultados.items():\n",
    "    print(f'Hash: {hash_val}, Contraseña: {pass_val}')"
   ]
  }
 ],
 "metadata": {
  "kernelspec": {
   "display_name": "Python 3",
   "language": "python",
   "name": "python3"
  },
  "language_info": {
   "codemirror_mode": {
    "name": "ipython",
    "version": 3
   },
   "file_extension": ".py",
   "mimetype": "text/x-python",
   "name": "python",
   "nbconvert_exporter": "python",
   "pygments_lexer": "ipython3",
   "version": "3.10.5"
  }
 },
 "nbformat": 4,
 "nbformat_minor": 2
}

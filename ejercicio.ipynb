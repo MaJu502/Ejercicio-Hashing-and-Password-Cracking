{
 "cells": [
  {
   "cell_type": "markdown",
   "metadata": {},
   "source": [
    "# Ejercicio Hashing and Password Cracking\n",
    "Marco Jurado 20308"
   ]
  },
  {
   "cell_type": "code",
   "execution_count": 25,
   "metadata": {},
   "outputs": [],
   "source": [
    "import hashlib\n",
    "import logging\n",
    "import random"
   ]
  },
  {
   "cell_type": "code",
   "execution_count": 26,
   "metadata": {},
   "outputs": [],
   "source": [
    "logging.basicConfig(level=logging.INFO, format='%(asctime)s - %(levelname)s - %(message)s')"
   ]
  },
  {
   "cell_type": "code",
   "execution_count": 27,
   "metadata": {},
   "outputs": [],
   "source": [
    "def generar_hash_sha1(texto):\n",
    "    return hashlib.sha1(texto.encode()).hexdigest()"
   ]
  },
  {
   "cell_type": "code",
   "execution_count": 28,
   "metadata": {},
   "outputs": [],
   "source": [
    "def leer_archivo(path, codificaciones=['utf-8', 'latin-1']):\n",
    "    for codificacion in codificaciones:\n",
    "        try:\n",
    "            with open(path, 'r', encoding=codificacion) as file:\n",
    "                contenido = file.read().splitlines()\n",
    "                logging.info(f\"Archivo {path} leído correctamente con codificación {codificacion}\")\n",
    "                return contenido\n",
    "        except UnicodeDecodeError as e:\n",
    "            logging.warning(f\"Fallo al leer {path} con {codificacion}: {e}\")\n",
    "            continue\n",
    "    error_msg = f\"No se pudo leer el archivo {path} con las codificaciones proporcionadas.\"\n",
    "    logging.error(error_msg)\n",
    "    raise ValueError(error_msg)"
   ]
  },
  {
   "cell_type": "code",
   "execution_count": 29,
   "metadata": {},
   "outputs": [],
   "source": [
    "def encontrar_contraseñas(hashes_objetivo, palabras):\n",
    "    encontrados = {}\n",
    "    contador = 0\n",
    "    total_palabras = len(palabras)\n",
    "    intervalo_progreso = int(total_palabras * 0.05)\n",
    "    if intervalo_progreso == 0:\n",
    "        intervalo_progreso = 1\n",
    "\n",
    "    for palabra in palabras:\n",
    "        contador += 1\n",
    "        hash_generado = generar_hash_sha1(palabra)\n",
    "        if hash_generado in hashes_objetivo:\n",
    "            encontrados[hash_generado] = palabra\n",
    "            logging.info(f\"Encontrado: {palabra} -> {hash_generado}\")\n",
    "\n",
    "        if contador % intervalo_progreso == 0:\n",
    "            porcentaje = (contador / total_palabras) * 100\n",
    "            logging.info(f\"{porcentaje:.2f}% completado\")\n",
    "\n",
    "    if contador % intervalo_progreso != 0:  # Capturar el último segmento de progreso\n",
    "        porcentaje = (contador / total_palabras) * 100\n",
    "        logging.info(f\"{porcentaje:.2f}% completado\")\n",
    "\n",
    "    return encontrados"
   ]
  },
  {
   "cell_type": "code",
   "execution_count": 30,
   "metadata": {},
   "outputs": [],
   "source": [
    "def mutar_palabras(palabras):\n",
    "    mutaciones = set(palabras)\n",
    "    logging.info(f\"Comenzando la mutación de {len(palabras)} palabras.\")\n",
    "\n",
    "    for palabra in palabras:\n",
    "        mutaciones.add(palabra.lower())\n",
    "        mutaciones.add(palabra.upper())\n",
    "        mutaciones.add(palabra.capitalize())\n",
    "        logging.debug(f\"Variantes de mayúsculas/minúsculas añadidas para {palabra}\")\n",
    "\n",
    "        mutaciones.add(palabra[::-1])\n",
    "        logging.debug(f\"Palabra invertida añadida: {palabra[::-1]}\")\n",
    "\n",
    "        for numero in range(10):\n",
    "            mutaciones.add(f\"{numero}{palabra}\")\n",
    "            mutaciones.add(f\"{palabra}{numero}\")\n",
    "        logging.debug(f\"Prefijos y sufijos numéricos añadidos para {palabra}\")\n",
    "\n",
    "        leet = palabra.replace('a', '4').replace('e', '3').replace('l', '1').replace('t', '7')\n",
    "        mutaciones.add(leet)\n",
    "        logging.debug(f\"Variante Leet añadida para {palabra}: {leet}\")\n",
    "\n",
    "    logging.info(f\"Total de mutaciones generadas: {len(mutaciones)}\")\n",
    "    return list(mutaciones)\n"
   ]
  },
  {
   "cell_type": "code",
   "execution_count": 31,
   "metadata": {},
   "outputs": [
    {
     "name": "stderr",
     "output_type": "stream",
     "text": [
      "2024-04-29 00:05:36,639 - INFO - Archivo target_hashes.txt leído correctamente con codificación utf-8\n",
      "2024-04-29 00:05:36,653 - INFO - Archivo words.txt leído correctamente con codificación utf-8\n",
      "2024-04-29 00:05:48,667 - INFO - Archivo palabras_totales.txt leído correctamente con codificación utf-8\n"
     ]
    }
   ],
   "source": [
    "hashes_objetivo = set(leer_archivo('target_hashes.txt'))\n",
    "palabras_basicas = leer_archivo('words.txt')\n",
    "# palabras_completas = leer_archivo('realhuman_phill.txt')\n",
    "# palabras_1 = leer_archivo('engDictionary.txt')\n",
    "# palabras_2 = leer_archivo('engDictionaryEdited.txt')\n",
    "# palabras_3 = leer_archivo('engDictionaryLarge.txt')\n",
    "# palabras_4 = leer_archivo('engDictionaryLargeEdited.txt')\n",
    "# palabras_5 = leer_archivo('common-and-spanish.txt')\n",
    "# palabras_6 = leer_archivo('spanich2.txt')\n",
    "# palabras_7 = leer_archivo('top-10000-spanish-words.txt')\n",
    "\n",
    "\n",
    "# EN caso de tener dataset generado en txt corrrer esto\n",
    "palabras_totales = leer_archivo('palabras_totales.txt')\n"
   ]
  },
  {
   "cell_type": "code",
   "execution_count": 32,
   "metadata": {},
   "outputs": [],
   "source": [
    "# palabras_totales = palabras_basicas + palabras_completas + palabras_1 + palabras_2 + palabras_3 + palabras_4 + palabras_5 + palabras_6 + palabras_7"
   ]
  },
  {
   "cell_type": "code",
   "execution_count": 33,
   "metadata": {},
   "outputs": [],
   "source": [
    "#mutaciones = mutar_palabras(palabras_totales)"
   ]
  },
  {
   "cell_type": "markdown",
   "metadata": {},
   "source": [
    "Con el dataset de palabras generado vamos a generar un nuevo txt que vamos a cargar para poder replicar el funcionamiento del ejercicio."
   ]
  },
  {
   "cell_type": "code",
   "execution_count": 34,
   "metadata": {},
   "outputs": [],
   "source": [
    "def guardar_palabras_en_txt(palabras, nombre_archivo):\n",
    "    \"\"\"Guarda una lista de palabras en un archivo de texto, cada palabra en una nueva línea.\"\"\"\n",
    "    with open(nombre_archivo, 'w', encoding='utf-8') as archivo:\n",
    "        for palabra in palabras:\n",
    "            archivo.write(palabra + '\\n')"
   ]
  },
  {
   "cell_type": "code",
   "execution_count": 35,
   "metadata": {},
   "outputs": [],
   "source": [
    "# de no tener el txt generado correr esto\n",
    "# guardar_palabras_en_txt(palabras_totales, 'palabras_totales.txt')"
   ]
  },
  {
   "cell_type": "code",
   "execution_count": 36,
   "metadata": {},
   "outputs": [
    {
     "data": {
      "text/plain": [
       "55999697"
      ]
     },
     "execution_count": 36,
     "metadata": {},
     "output_type": "execute_result"
    }
   ],
   "source": [
    "len(palabras_totales)"
   ]
  },
  {
   "cell_type": "code",
   "execution_count": 37,
   "metadata": {},
   "outputs": [
    {
     "name": "stderr",
     "output_type": "stream",
     "text": [
      "2024-04-29 00:05:58,465 - INFO - 5.00% completado\n",
      "2024-04-29 00:06:01,857 - INFO - 10.00% completado\n",
      "2024-04-29 00:06:04,528 - INFO - Encontrado: abcdefghijklmnopqrstuvwxyz -> 32d10c7b8cf96570ca04ce37f2a19d84240d3a89\n",
      "2024-04-29 00:06:05,358 - INFO - 15.00% completado\n",
      "2024-04-29 00:06:09,016 - INFO - 20.00% completado\n",
      "2024-04-29 00:06:12,759 - INFO - 25.00% completado\n",
      "2024-04-29 00:06:15,894 - INFO - Encontrado: easypass111 -> d5bdd5ec4b1ef2da23b22dc2db99731d9cb2823d\n",
      "2024-04-29 00:06:16,259 - INFO - 30.00% completado\n",
      "2024-04-29 00:06:19,608 - INFO - 35.00% completado\n",
      "2024-04-29 00:06:23,246 - INFO - 40.00% completado\n",
      "2024-04-29 00:06:26,606 - INFO - 45.00% completado\n",
      "2024-04-29 00:06:29,952 - INFO - 50.00% completado\n",
      "2024-04-29 00:06:33,428 - INFO - 55.00% completado\n",
      "2024-04-29 00:06:35,771 - INFO - Encontrado: ANTIGUAGUATEMALA! -> ce00a097dc3ff6d5589d8c130f14c9fe0084e4fe\n",
      "2024-04-29 00:06:36,850 - INFO - 60.00% completado\n",
      "2024-04-29 00:06:40,315 - INFO - 65.00% completado\n",
      "2024-04-29 00:06:43,730 - INFO - 70.00% completado\n",
      "2024-04-29 00:06:47,260 - INFO - 75.00% completado\n",
      "2024-04-29 00:06:50,609 - INFO - Encontrado: P4ssw0rd -> 264bc0768362a68984faea923efaa21f67f4d10a\n",
      "2024-04-29 00:06:50,734 - INFO - 80.00% completado\n",
      "2024-04-29 00:06:54,214 - INFO - 85.00% completado\n",
      "2024-04-29 00:06:54,709 - INFO - Encontrado: &*() -> 5ea777cd7ac9149f843fc39386570b2b5c2ce586\n",
      "2024-04-29 00:06:57,723 - INFO - 90.00% completado\n",
      "2024-04-29 00:07:01,086 - INFO - 95.00% completado\n",
      "2024-04-29 00:07:04,546 - INFO - 100.00% completado\n",
      "2024-04-29 00:07:04,547 - INFO - 100.00% completado\n"
     ]
    }
   ],
   "source": [
    "resultados = encontrar_contraseñas(hashes_objetivo, palabras_totales)"
   ]
  },
  {
   "cell_type": "code",
   "execution_count": 38,
   "metadata": {},
   "outputs": [
    {
     "name": "stdout",
     "output_type": "stream",
     "text": [
      "Hash: 32d10c7b8cf96570ca04ce37f2a19d84240d3a89, Contraseña: abcdefghijklmnopqrstuvwxyz\n",
      "Hash: d5bdd5ec4b1ef2da23b22dc2db99731d9cb2823d, Contraseña: easypass111\n",
      "Hash: ce00a097dc3ff6d5589d8c130f14c9fe0084e4fe, Contraseña: ANTIGUAGUATEMALA!\n",
      "Hash: 264bc0768362a68984faea923efaa21f67f4d10a, Contraseña: P4ssw0rd\n",
      "Hash: 5ea777cd7ac9149f843fc39386570b2b5c2ce586, Contraseña: &*()\n"
     ]
    }
   ],
   "source": [
    "for hash_val, pass_val in resultados.items():\n",
    "    print(f'Hash: {hash_val}, Contraseña: {pass_val}')"
   ]
  }
 ],
 "metadata": {
  "kernelspec": {
   "display_name": "Python 3",
   "language": "python",
   "name": "python3"
  },
  "language_info": {
   "codemirror_mode": {
    "name": "ipython",
    "version": 3
   },
   "file_extension": ".py",
   "mimetype": "text/x-python",
   "name": "python",
   "nbconvert_exporter": "python",
   "pygments_lexer": "ipython3",
   "version": "3.10.5"
  }
 },
 "nbformat": 4,
 "nbformat_minor": 2
}
